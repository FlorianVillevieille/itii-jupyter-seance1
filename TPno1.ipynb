{
 "cells": [
  {
   "cell_type": "code",
   "execution_count": 7,
   "metadata": {},
   "outputs": [
    {
     "name": "stdout",
     "output_type": "stream",
     "text": [
      "Entrez un rayon: 5\n",
      "le rayon choisi est :  5\n",
      "Entrez une hauteur: 6\n",
      "la hauteur est :  6\n",
      "Le volume est : 157.07963267948963\n"
     ]
    }
   ],
   "source": [
    "from math import *\n",
    "\n",
    "rayon = int(input(\"Entrez un rayon: \"))\n",
    "print(\"le rayon choisi est : \", rayon)\n",
    "hauteur = int(input(\"Entrez une hauteur: \"))\n",
    "print(\"la hauteur est : \",hauteur)\n",
    "\n",
    "volume = (1/3) * pi *rayon*rayon*hauteur\n",
    "print(\"Le volume est :\",volume)\n",
    "\n",
    "\n"
   ]
  },
  {
   "cell_type": "code",
   "execution_count": 16,
   "metadata": {},
   "outputs": [
    {
     "name": "stdout",
     "output_type": "stream",
     "text": [
      "choisissez un N : 5\n",
      "La somme est :  0\n",
      "La somme est :  1\n",
      "La somme est :  9\n",
      "La somme est :  36\n",
      "La somme est :  100\n"
     ]
    }
   ],
   "source": [
    "n = int(input(\"choisissez un N : \"))\n",
    "somme=int(0)\n",
    "k= int(1)\n",
    "\n",
    "for i in range(n):\n",
    "    somme += (k*k*k)\n",
    "    k+=1\n",
    "    print (\"La somme est : \", somme)"
   ]
  },
  {
   "cell_type": "code",
   "execution_count": 18,
   "metadata": {},
   "outputs": [
    {
     "name": "stdout",
     "output_type": "stream",
     "text": [
      "choisissez un N4\n",
      "La somme est :  10\n"
     ]
    }
   ],
   "source": [
    "n = int(input(\"choisissez un N\"))\n",
    "somme=int(0)\n",
    "k=int(1)\n",
    "\n",
    "for i in range(n):\n",
    "    somme += k\n",
    "    k+=1\n",
    "print (\"La somme est : \", somme)"
   ]
  },
  {
   "cell_type": "code",
   "execution_count": null,
   "metadata": {},
   "outputs": [],
   "source": []
  }
 ],
 "metadata": {
  "kernelspec": {
   "display_name": "Python 3",
   "language": "python",
   "name": "python3"
  },
  "language_info": {
   "codemirror_mode": {
    "name": "ipython",
    "version": 3
   },
   "file_extension": ".py",
   "mimetype": "text/x-python",
   "name": "python",
   "nbconvert_exporter": "python",
   "pygments_lexer": "ipython3",
   "version": "3.7.6"
  }
 },
 "nbformat": 4,
 "nbformat_minor": 4
}
